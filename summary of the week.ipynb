{
 "cells": [
  {
   "cell_type": "markdown",
   "metadata": {},
   "source": [
    "# weekely summary from chapter one to four\n",
    "\n",
    "\n",
    "chapter one \n"
   ]
  },
  {
   "cell_type": "markdown",
   "metadata": {},
   "source": [
    "### concept of machine learning\n",
    "     Machne learning intorduce the concept of learning the data, analyse and then make prediction acconding to dataset can result to the accurancy of prediction \n",
    "     \n",
    "     \n",
    "   Through algorithms of machine learning we can solve different problems like \n",
    "     >failture of students to meet standard mark to pass on year\n",
    "     >Predict the number of students of high education will get loarn from loarn board \n",
    "     many probelms that can be solving by machine learning using supervised learning algorithmns "
   ]
  },
  {
   "cell_type": "markdown",
   "metadata": {},
   "source": [
    "#### challenges\n",
    "  In oder to solve problem by machine learning, must have dataset about our problem and we must know the best model that can be applied  to get accurate result."
   ]
  },
  {
   "cell_type": "markdown",
   "metadata": {},
   "source": [
    "#### Applications of machine learning to the realy world\n",
    "    >Classifications\n",
    "    ML can classify species into their classes according to the dataset and new data that obtain from the spaces\n",
    "    \n",
    "    first analys dataseet by using tools like numpy and pandas then make visuallsion by using matplotlib library\n",
    "    \n",
    "    then we build machine learning model in order to predict the accurancy of espected result.\n",
    "    "
   ]
  },
  {
   "cell_type": "markdown",
   "metadata": {},
   "source": [
    "#### codes used to build model  \n",
    "using example of iris datasets"
   ]
  },
  {
   "cell_type": "code",
   "execution_count": 4,
   "metadata": {},
   "outputs": [],
   "source": [
    "from sklearn.datasets import load_iris\n",
    "iris_dataset = load_iris()"
   ]
  },
  {
   "cell_type": "markdown",
   "metadata": {},
   "source": [
    "#### Explaintions\n",
    "   build of machine learning model we must have training sets and test set.\n",
    "   data will splited into train set and test set .train set used to build model and test set used for make generalition"
   ]
  },
  {
   "cell_type": "code",
   "execution_count": 6,
   "metadata": {},
   "outputs": [],
   "source": [
    "#before apply algorithmn we must split dataset use the following codes \n",
    "#X_train, X_test, y_train, y_test = train_test_split(\n",
    "#iris_dataset['data'], iris_dataset['target'], random_state=0)\n",
    "#above code using iris datasets after that we can apply algorithmn of ML"
   ]
  },
  {
   "cell_type": "markdown",
   "metadata": {},
   "source": [
    "#### CHAPTER TWO\n",
    "\n"
   ]
  },
  {
   "cell_type": "markdown",
   "metadata": {},
   "source": [
    "##### Supervised Learning\n"
   ]
  },
  {
   "cell_type": "markdown",
   "metadata": {},
   "source": [
    "#####  starting with what is Supervised Learning\n",
    "   is one of types of machine learning that can be used predict a certain\n",
    "outcome from a given input, this model tkaes input/output pairs to build a model that predict the accurancy of new before seen the data."
   ]
  },
  {
   "cell_type": "markdown",
   "metadata": {},
   "source": [
    "#####  two types of supervised learning\n",
    "    >classification \n",
    "    >Regresssion\n",
    "\n",
    "classification\n",
    "    can be applied on the non-continues data and when predict one answer can not \n",
    "predict others on certain problem somtime call binary classification\n",
    "    classification can predict problem where target can be 1 or 0\n",
    "  \n",
    "\n",
    "regression\n",
    "can be applied in continues data. "
   ]
  },
  {
   "cell_type": "markdown",
   "metadata": {},
   "source": [
    "####  Supervised machine learning algorithms\n",
    "    the algorithms that can learn from data and make prediction. there eight algorithms \n",
    "       >k-nearest neighbor \n",
    "       >linear models\n",
    "       >naive bayes\n",
    "       >decision trees\n",
    "       >random forests\n",
    "       >gradient boosted decision trees\n",
    "       >suport vector machines\n",
    "       >neural network\n",
    "       \n"
   ]
  },
  {
   "cell_type": "markdown",
   "metadata": {},
   "source": [
    "### K-nearest algorithm\n",
    " k-nearest neighbors (K-NN) \n",
    "   In K-NN generalize to the training point by predict the kth-nearest neighbors points\n",
    "   this model can be applied for small datasets,good as a  baseline, easy to explain.\n",
    "k-NN divided into two categories\n",
    "  >k-NN classificatioon\n",
    "  \n",
    "  >k-N regression"
   ]
  },
  {
   "cell_type": "markdown",
   "metadata": {},
   "source": [
    "##### k-NN classifcataion\n",
    "  it is simplest version. \n",
    "  it using one or more trainig data point to the point we want to  make prediction \n",
    "   it have application to the many fields in the world because through\n",
    "   k-NN we can classfier different kinds of diseases according to their features.\n",
    "   also we can help to get accurate class of certain animal by classifier ithem into classes\n",
    "example using sklearn to show methods and library for classification"
   ]
  },
  {
   "cell_type": "code",
   "execution_count": 10,
   "metadata": {},
   "outputs": [],
   "source": [
    "from sklearn.neighbors import KNeighborsClassifier\n",
    "dc = KNeighborsClassifier(n_neighbors=5)"
   ]
  },
  {
   "cell_type": "markdown",
   "metadata": {},
   "source": [
    "####  k-N regression\n",
    "  this algorithm use data inform of waves. Due to that fact it can be term into algorithms which use continue data\n",
    "    also in this algorithm can predict use only one nearest point or more than one point\n",
    "    "
   ]
  },
  {
   "cell_type": "markdown",
   "metadata": {},
   "source": [
    "##### by using only one nearest point"
   ]
  },
  {
   "cell_type": "code",
   "execution_count": 16,
   "metadata": {
    "scrolled": true
   },
   "outputs": [],
   "source": [
    "\n",
    "#mglearn.plots.plot_knn_regression(n_neighbors=1)"
   ]
  },
  {
   "cell_type": "markdown",
   "metadata": {},
   "source": [
    "##### by using more than one nearest neighbor point\n",
    "   mglearn.plots.plot_knn_regression(n_neighbors=3)"
   ]
  },
  {
   "cell_type": "markdown",
   "metadata": {},
   "source": [
    "#####  k-nearest neighbors algorithm for regression\n",
    " The k-nearest neighbors algorithm for regression is implemented in the KNeighbors\n",
    "Regressor class in scikit-learn. It’s used similarly to KNeighborsClassifier:\n",
    "\n",
    "    from sklearn.neighbors import KNeighborsRegressor"
   ]
  },
  {
   "cell_type": "markdown",
   "metadata": {},
   "source": [
    "#### Linear Models\n",
    "\n",
    "   lnear models learn data and make prediction by using linear function"
   ]
  },
  {
   "cell_type": "raw",
   "metadata": {},
   "source": []
  },
  {
   "cell_type": "markdown",
   "metadata": {},
   "source": [
    "#####   linear models for regression\n",
    "  \n",
    "  the linear function used by this is like this\n",
    "  \n",
    "  ŷ = w[0] * x[0] + b\n",
    "  \n",
    " the above function is like linear equstion in school mathematics topic of coordinate\n",
    "  "
   ]
  },
  {
   "cell_type": "markdown",
   "metadata": {},
   "source": [
    "#####  types of  linear models for regression\n",
    "   \n",
    "   >linear regression\n",
    "   \n",
    "   import the linera ragression library to the codes\n",
    "   \n",
    "    from sklearn.linear_model import LinearRegression\n",
    "   \n",
    "   >ridge regression\n",
    "   \n",
    "    Ridge regression is implemented in linear_model.Ridge.\n",
    "    \n",
    "  from sklearn.linear_model import RidgeRegression"
   ]
  },
  {
   "cell_type": "code",
   "execution_count": null,
   "metadata": {},
   "outputs": [],
   "source": []
  }
 ],
 "metadata": {
  "kernelspec": {
   "display_name": "Python 3",
   "language": "python",
   "name": "python3"
  },
  "language_info": {
   "codemirror_mode": {
    "name": "ipython",
    "version": 3
   },
   "file_extension": ".py",
   "mimetype": "text/x-python",
   "name": "python",
   "nbconvert_exporter": "python",
   "pygments_lexer": "ipython3",
   "version": "3.6.4"
  }
 },
 "nbformat": 4,
 "nbformat_minor": 2
}
